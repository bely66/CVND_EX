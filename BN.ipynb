{
  "nbformat": 4,
  "nbformat_minor": 0,
  "metadata": {
    "colab": {
      "name": "BN.ipynb",
      "provenance": [],
      "collapsed_sections": [],
      "include_colab_link": true
    },
    "kernelspec": {
      "name": "python3",
      "display_name": "Python 3"
    },
    "accelerator": "GPU"
  },
  "cells": [
    {
      "cell_type": "markdown",
      "metadata": {
        "id": "view-in-github",
        "colab_type": "text"
      },
      "source": [
        "<a href=\"https://colab.research.google.com/github/bely66/CV_EX/blob/master/BN.ipynb\" target=\"_parent\"><img src=\"https://colab.research.google.com/assets/colab-badge.svg\" alt=\"Open In Colab\"/></a>"
      ]
    },
    {
      "cell_type": "markdown",
      "metadata": {
        "id": "P8HnPfJH4OCD",
        "colab_type": "text"
      },
      "source": [
        "# Batch Normalization (BN)\n",
        "\n",
        "**Paper** [Batch Normalization: Accelerating Deep Network Training by Reducing Internal Covariate Shift](https://arxiv.org/pdf/1502.03167.pdf) \n",
        "\n",
        "**Introduction**  \n",
        "Batch normalization can be interpreted as conducting preprocessing at every layer of the network, where it is integrated into the network via a simple differentiable way.\n",
        "Batch Normalization,  is one of the most important techniques for deep learning, developed by Ioffe and Szegedy, that makes the neural network much robust to the choice of hyper parameters, by enforcing the activations of  a layer to take a Gaussian distribution. \n",
        "When training even a simple model, normalizing (or standardizing) the input data (or features) can  speed up the training  process, where standardizing transforms data to have a mean of zero and a standard deviation of 1. Intuitively, without normalization of the input features, the cost function could be elongated in one direction than the other, making it difficult for optimization to find a minima (requires more steps and smaller learning rate.) \n",
        "\n",
        "\n",
        "**Why BN works**  \n",
        "Covariate Shift: \"When the input distribution to a learning system changes, it is said to experience covariate shift (Shimodaira, 2000). This is typically handled via domain adaptation (Jiang, 2008). However, the notion of covariate shift can be extended beyond the learning system as a whole, to apply to its parts, such as a sub-network or a layer\"\n",
        "Internal Covariate Shift: BN draws its strength from making normalization a part of the model architecture and performing the normalization for each training mini-batch. \n",
        "BN allows each layer of network to learn a little bit more independently of other layers, which speeds the learning.\n",
        "\n",
        "\n",
        "By: [Ibrahim Sobh](https://www.linkedin.com/in/ibrahim-sobh-phd-8681757/)\n"
      ]
    },
    {
      "cell_type": "markdown",
      "metadata": {
        "id": "SsyRyt2Y9Abk",
        "colab_type": "text"
      },
      "source": [
        "## Basic Code"
      ]
    },
    {
      "cell_type": "code",
      "metadata": {
        "id": "scqMUGo04Tbx",
        "colab_type": "code",
        "outputId": "1d7f7ec9-ae42-488f-90a5-c4e78685216f",
        "colab": {
          "base_uri": "https://localhost:8080/",
          "height": 78
        }
      },
      "source": [
        "from __future__ import print_function\n",
        "import keras\n",
        "from keras.datasets import cifar10\n",
        "from keras.preprocessing.image import ImageDataGenerator\n",
        "from keras.models import Sequential\n",
        "from keras.layers import Dense, Dropout, Activation, Flatten, BatchNormalization\n",
        "from keras.layers import Conv2D, MaxPooling2D\n",
        "import os\n",
        "import pickle\n",
        "from numpy.random import seed\n",
        "from matplotlib import pyplot as plt\n",
        "seed(13)"
      ],
      "execution_count": 0,
      "outputs": [
        {
          "output_type": "stream",
          "text": [
            "Using TensorFlow backend.\n"
          ],
          "name": "stderr"
        },
        {
          "output_type": "display_data",
          "data": {
            "text/html": [
              "<p style=\"color: red;\">\n",
              "The default version of TensorFlow in Colab will soon switch to TensorFlow 2.x.<br>\n",
              "We recommend you <a href=\"https://www.tensorflow.org/guide/migrate\" target=\"_blank\">upgrade</a> now \n",
              "or ensure your notebook will continue to use TensorFlow 1.x via the <code>%tensorflow_version 1.x</code> magic:\n",
              "<a href=\"https://colab.research.google.com/notebooks/tensorflow_version.ipynb\" target=\"_blank\">more info</a>.</p>\n"
            ],
            "text/plain": [
              "<IPython.core.display.HTML object>"
            ]
          },
          "metadata": {
            "tags": []
          }
        }
      ]
    },
    {
      "cell_type": "code",
      "metadata": {
        "id": "8YgH5WyU4UMY",
        "colab_type": "code",
        "colab": {}
      },
      "source": [
        "batch_size = 32\n",
        "num_classes = 10\n",
        "epochs = 20"
      ],
      "execution_count": 0,
      "outputs": []
    },
    {
      "cell_type": "code",
      "metadata": {
        "id": "kAet_HCu4hVa",
        "colab_type": "code",
        "outputId": "28d4164c-64a6-451c-c4f8-56174f650a76",
        "colab": {
          "base_uri": "https://localhost:8080/",
          "height": 100
        }
      },
      "source": [
        "# Data\n",
        "(x_train, y_train), (x_test, y_test) = cifar10.load_data()\n",
        "print('x_train shape:', x_train.shape)\n",
        "print(x_train.shape[0], 'train samples')\n",
        "print(x_test.shape[0], 'test samples')\n",
        "\n",
        "# Convert class vectors to binary class matrices.\n",
        "y_train = keras.utils.to_categorical(y_train, num_classes)\n",
        "y_test = keras.utils.to_categorical(y_test, num_classes)\n",
        "\n",
        "x_train = x_train.astype('float32')\n",
        "x_test = x_test.astype('float32')\n",
        "x_train /= 255\n",
        "x_test /= 255"
      ],
      "execution_count": 0,
      "outputs": [
        {
          "output_type": "stream",
          "text": [
            "Downloading data from https://www.cs.toronto.edu/~kriz/cifar-10-python.tar.gz\n",
            "170500096/170498071 [==============================] - 11s 0us/step\n",
            "x_train shape: (50000, 32, 32, 3)\n",
            "50000 train samples\n",
            "10000 test samples\n"
          ],
          "name": "stdout"
        }
      ]
    },
    {
      "cell_type": "markdown",
      "metadata": {
        "id": "GG2RN7Hd6Ar5",
        "colab_type": "text"
      },
      "source": [
        "## Without Batch Normalization (BN)"
      ]
    },
    {
      "cell_type": "code",
      "metadata": {
        "id": "q9LvL-sQ4vDd",
        "colab_type": "code",
        "outputId": "3aea9d2e-b8a8-4f62-f520-407df961216f",
        "colab": {
          "base_uri": "https://localhost:8080/",
          "height": 1000
        }
      },
      "source": [
        "# Model \n",
        "model = Sequential()\n",
        "model.add(Conv2D(32, (3, 3), padding='same',\n",
        "                 input_shape=x_train.shape[1:]))\n",
        "model.add(Activation('relu'))\n",
        "model.add(Conv2D(32, (3, 3)))\n",
        "model.add(Activation('relu'))\n",
        "model.add(MaxPooling2D(pool_size=(2, 2)))\n",
        "model.add(Dropout(0.25))\n",
        "\n",
        "model.add(Conv2D(64, (3, 3), padding='same'))\n",
        "model.add(Activation('relu'))\n",
        "model.add(Conv2D(64, (3, 3)))\n",
        "model.add(Activation('relu'))\n",
        "model.add(MaxPooling2D(pool_size=(2, 2)))\n",
        "model.add(Dropout(0.25))\n",
        "\n",
        "model.add(Flatten())\n",
        "model.add(Dense(512))\n",
        "model.add(Activation('relu'))\n",
        "model.add(Dropout(0.5))\n",
        "model.add(Dense(num_classes))\n",
        "model.add(Activation('softmax'))\n",
        "\n",
        "opt = keras.optimizers.rmsprop(lr=0.0001, decay=1e-6)\n",
        "\n",
        "model.compile(loss='categorical_crossentropy',\n",
        "              optimizer=opt,\n",
        "              metrics=['accuracy'])\n",
        "\n",
        "model.summary()"
      ],
      "execution_count": 0,
      "outputs": [
        {
          "output_type": "stream",
          "text": [
            "WARNING:tensorflow:From /usr/local/lib/python3.6/dist-packages/keras/backend/tensorflow_backend.py:66: The name tf.get_default_graph is deprecated. Please use tf.compat.v1.get_default_graph instead.\n",
            "\n",
            "WARNING:tensorflow:From /usr/local/lib/python3.6/dist-packages/keras/backend/tensorflow_backend.py:541: The name tf.placeholder is deprecated. Please use tf.compat.v1.placeholder instead.\n",
            "\n",
            "WARNING:tensorflow:From /usr/local/lib/python3.6/dist-packages/keras/backend/tensorflow_backend.py:4432: The name tf.random_uniform is deprecated. Please use tf.random.uniform instead.\n",
            "\n",
            "WARNING:tensorflow:From /usr/local/lib/python3.6/dist-packages/keras/backend/tensorflow_backend.py:4267: The name tf.nn.max_pool is deprecated. Please use tf.nn.max_pool2d instead.\n",
            "\n",
            "WARNING:tensorflow:From /usr/local/lib/python3.6/dist-packages/keras/backend/tensorflow_backend.py:148: The name tf.placeholder_with_default is deprecated. Please use tf.compat.v1.placeholder_with_default instead.\n",
            "\n",
            "WARNING:tensorflow:From /usr/local/lib/python3.6/dist-packages/keras/backend/tensorflow_backend.py:3733: calling dropout (from tensorflow.python.ops.nn_ops) with keep_prob is deprecated and will be removed in a future version.\n",
            "Instructions for updating:\n",
            "Please use `rate` instead of `keep_prob`. Rate should be set to `rate = 1 - keep_prob`.\n",
            "WARNING:tensorflow:From /usr/local/lib/python3.6/dist-packages/keras/optimizers.py:793: The name tf.train.Optimizer is deprecated. Please use tf.compat.v1.train.Optimizer instead.\n",
            "\n",
            "WARNING:tensorflow:From /usr/local/lib/python3.6/dist-packages/keras/backend/tensorflow_backend.py:3576: The name tf.log is deprecated. Please use tf.math.log instead.\n",
            "\n",
            "Model: \"sequential_1\"\n",
            "_________________________________________________________________\n",
            "Layer (type)                 Output Shape              Param #   \n",
            "=================================================================\n",
            "conv2d_1 (Conv2D)            (None, 32, 32, 32)        896       \n",
            "_________________________________________________________________\n",
            "activation_1 (Activation)    (None, 32, 32, 32)        0         \n",
            "_________________________________________________________________\n",
            "conv2d_2 (Conv2D)            (None, 30, 30, 32)        9248      \n",
            "_________________________________________________________________\n",
            "activation_2 (Activation)    (None, 30, 30, 32)        0         \n",
            "_________________________________________________________________\n",
            "max_pooling2d_1 (MaxPooling2 (None, 15, 15, 32)        0         \n",
            "_________________________________________________________________\n",
            "dropout_1 (Dropout)          (None, 15, 15, 32)        0         \n",
            "_________________________________________________________________\n",
            "conv2d_3 (Conv2D)            (None, 15, 15, 64)        18496     \n",
            "_________________________________________________________________\n",
            "activation_3 (Activation)    (None, 15, 15, 64)        0         \n",
            "_________________________________________________________________\n",
            "conv2d_4 (Conv2D)            (None, 13, 13, 64)        36928     \n",
            "_________________________________________________________________\n",
            "activation_4 (Activation)    (None, 13, 13, 64)        0         \n",
            "_________________________________________________________________\n",
            "max_pooling2d_2 (MaxPooling2 (None, 6, 6, 64)          0         \n",
            "_________________________________________________________________\n",
            "dropout_2 (Dropout)          (None, 6, 6, 64)          0         \n",
            "_________________________________________________________________\n",
            "flatten_1 (Flatten)          (None, 2304)              0         \n",
            "_________________________________________________________________\n",
            "dense_1 (Dense)              (None, 512)               1180160   \n",
            "_________________________________________________________________\n",
            "activation_5 (Activation)    (None, 512)               0         \n",
            "_________________________________________________________________\n",
            "dropout_3 (Dropout)          (None, 512)               0         \n",
            "_________________________________________________________________\n",
            "dense_2 (Dense)              (None, 10)                5130      \n",
            "_________________________________________________________________\n",
            "activation_6 (Activation)    (None, 10)                0         \n",
            "=================================================================\n",
            "Total params: 1,250,858\n",
            "Trainable params: 1,250,858\n",
            "Non-trainable params: 0\n",
            "_________________________________________________________________\n"
          ],
          "name": "stdout"
        }
      ]
    },
    {
      "cell_type": "code",
      "metadata": {
        "id": "rd5myu-x4M8E",
        "colab_type": "code",
        "outputId": "091e81fa-2cad-4254-b40b-f21024ffaf61",
        "colab": {
          "base_uri": "https://localhost:8080/",
          "height": 1000
        }
      },
      "source": [
        "# Train\n",
        "history1 = model.fit(x_train, y_train,\n",
        "          batch_size=batch_size,\n",
        "          epochs=epochs,\n",
        "          validation_data=(x_test, y_test),\n",
        "          shuffle=True)\n"
      ],
      "execution_count": 0,
      "outputs": [
        {
          "output_type": "stream",
          "text": [
            "WARNING:tensorflow:From /usr/local/lib/python3.6/dist-packages/tensorflow_core/python/ops/math_grad.py:1424: where (from tensorflow.python.ops.array_ops) is deprecated and will be removed in a future version.\n",
            "Instructions for updating:\n",
            "Use tf.where in 2.0, which has the same broadcast rule as np.where\n",
            "WARNING:tensorflow:From /usr/local/lib/python3.6/dist-packages/keras/backend/tensorflow_backend.py:1033: The name tf.assign_add is deprecated. Please use tf.compat.v1.assign_add instead.\n",
            "\n",
            "WARNING:tensorflow:From /usr/local/lib/python3.6/dist-packages/keras/backend/tensorflow_backend.py:1020: The name tf.assign is deprecated. Please use tf.compat.v1.assign instead.\n",
            "\n",
            "WARNING:tensorflow:From /usr/local/lib/python3.6/dist-packages/keras/backend/tensorflow_backend.py:3005: The name tf.Session is deprecated. Please use tf.compat.v1.Session instead.\n",
            "\n",
            "Train on 50000 samples, validate on 10000 samples\n",
            "Epoch 1/20\n",
            "WARNING:tensorflow:From /usr/local/lib/python3.6/dist-packages/keras/backend/tensorflow_backend.py:190: The name tf.get_default_session is deprecated. Please use tf.compat.v1.get_default_session instead.\n",
            "\n",
            "WARNING:tensorflow:From /usr/local/lib/python3.6/dist-packages/keras/backend/tensorflow_backend.py:197: The name tf.ConfigProto is deprecated. Please use tf.compat.v1.ConfigProto instead.\n",
            "\n",
            "WARNING:tensorflow:From /usr/local/lib/python3.6/dist-packages/keras/backend/tensorflow_backend.py:207: The name tf.global_variables is deprecated. Please use tf.compat.v1.global_variables instead.\n",
            "\n",
            "WARNING:tensorflow:From /usr/local/lib/python3.6/dist-packages/keras/backend/tensorflow_backend.py:216: The name tf.is_variable_initialized is deprecated. Please use tf.compat.v1.is_variable_initialized instead.\n",
            "\n",
            "WARNING:tensorflow:From /usr/local/lib/python3.6/dist-packages/keras/backend/tensorflow_backend.py:223: The name tf.variables_initializer is deprecated. Please use tf.compat.v1.variables_initializer instead.\n",
            "\n",
            "50000/50000 [==============================] - 24s 472us/step - loss: 1.8346 - acc: 0.3284 - val_loss: 1.5850 - val_acc: 0.4279\n",
            "Epoch 2/20\n",
            "50000/50000 [==============================] - 10s 190us/step - loss: 1.4887 - acc: 0.4565 - val_loss: 1.3262 - val_acc: 0.5287\n",
            "Epoch 3/20\n",
            "50000/50000 [==============================] - 9s 188us/step - loss: 1.3478 - acc: 0.5172 - val_loss: 1.3150 - val_acc: 0.5327\n",
            "Epoch 4/20\n",
            "50000/50000 [==============================] - 9s 189us/step - loss: 1.2537 - acc: 0.5555 - val_loss: 1.1517 - val_acc: 0.5909\n",
            "Epoch 5/20\n",
            "50000/50000 [==============================] - 9s 187us/step - loss: 1.1748 - acc: 0.5843 - val_loss: 1.0603 - val_acc: 0.6263\n",
            "Epoch 6/20\n",
            "50000/50000 [==============================] - 9s 189us/step - loss: 1.1039 - acc: 0.6114 - val_loss: 1.0419 - val_acc: 0.6364\n",
            "Epoch 7/20\n",
            "50000/50000 [==============================] - 10s 190us/step - loss: 1.0407 - acc: 0.6347 - val_loss: 0.9634 - val_acc: 0.6618\n",
            "Epoch 8/20\n",
            "50000/50000 [==============================] - 10s 192us/step - loss: 0.9907 - acc: 0.6525 - val_loss: 0.9223 - val_acc: 0.6776\n",
            "Epoch 9/20\n",
            "50000/50000 [==============================] - 9s 186us/step - loss: 0.9502 - acc: 0.6666 - val_loss: 0.9248 - val_acc: 0.6779\n",
            "Epoch 10/20\n",
            "50000/50000 [==============================] - 9s 189us/step - loss: 0.9132 - acc: 0.6798 - val_loss: 0.8933 - val_acc: 0.6906\n",
            "Epoch 11/20\n",
            "50000/50000 [==============================] - 10s 190us/step - loss: 0.8827 - acc: 0.6914 - val_loss: 0.8417 - val_acc: 0.7081\n",
            "Epoch 12/20\n",
            "50000/50000 [==============================] - 9s 188us/step - loss: 0.8552 - acc: 0.7018 - val_loss: 0.8113 - val_acc: 0.7202\n",
            "Epoch 13/20\n",
            "50000/50000 [==============================] - 9s 187us/step - loss: 0.8312 - acc: 0.7106 - val_loss: 0.7985 - val_acc: 0.7266\n",
            "Epoch 14/20\n",
            "50000/50000 [==============================] - 9s 187us/step - loss: 0.8082 - acc: 0.7180 - val_loss: 0.7819 - val_acc: 0.7260\n",
            "Epoch 15/20\n",
            "50000/50000 [==============================] - 9s 187us/step - loss: 0.7889 - acc: 0.7258 - val_loss: 0.7523 - val_acc: 0.7428\n",
            "Epoch 16/20\n",
            "50000/50000 [==============================] - 9s 186us/step - loss: 0.7707 - acc: 0.7332 - val_loss: 0.7495 - val_acc: 0.7415\n",
            "Epoch 17/20\n",
            "50000/50000 [==============================] - 9s 188us/step - loss: 0.7625 - acc: 0.7342 - val_loss: 0.7346 - val_acc: 0.7468\n",
            "Epoch 18/20\n",
            "50000/50000 [==============================] - 9s 186us/step - loss: 0.7466 - acc: 0.7422 - val_loss: 0.7170 - val_acc: 0.7523\n",
            "Epoch 19/20\n",
            "50000/50000 [==============================] - 9s 185us/step - loss: 0.7394 - acc: 0.7441 - val_loss: 0.7418 - val_acc: 0.7444\n",
            "Epoch 20/20\n",
            "50000/50000 [==============================] - 9s 189us/step - loss: 0.7312 - acc: 0.7486 - val_loss: 0.7108 - val_acc: 0.7557\n"
          ],
          "name": "stdout"
        }
      ]
    },
    {
      "cell_type": "markdown",
      "metadata": {
        "id": "87HlrT2q6kpg",
        "colab_type": "text"
      },
      "source": [
        "## Without Batch Normalization (BN)"
      ]
    },
    {
      "cell_type": "code",
      "metadata": {
        "id": "6eDAMkH16o3R",
        "colab_type": "code",
        "outputId": "45c25674-a3a7-49e9-d8aa-20f8e0ff4d02",
        "colab": {
          "base_uri": "https://localhost:8080/",
          "height": 867
        }
      },
      "source": [
        "model_bn = Sequential()\n",
        "model_bn.add(Conv2D(32, (3, 3), padding='same', use_bias=False,\n",
        "                 input_shape=x_train.shape[1:]))\n",
        "model_bn.add(BatchNormalization())\n",
        "model_bn.add(Activation('relu'))\n",
        "\n",
        "model_bn.add(Conv2D(32, (3, 3), use_bias=False))\n",
        "model_bn.add(BatchNormalization())\n",
        "model_bn.add(Activation('relu'))\n",
        "model_bn.add(MaxPooling2D(pool_size=(2, 2)))\n",
        "#model.add(Dropout(0.25))\n",
        "\n",
        "model_bn.add(Conv2D(64, (3, 3), use_bias=False, padding='same'))\n",
        "model_bn.add(BatchNormalization())\n",
        "model_bn.add(Activation('relu'))\n",
        "model_bn.add(Conv2D(64, (3, 3), use_bias=False))\n",
        "model_bn.add(BatchNormalization())\n",
        "model_bn.add(Activation('relu'))\n",
        "model_bn.add(MaxPooling2D(pool_size=(2, 2)))\n",
        "#model.add(Dropout(0.25))\n",
        "\n",
        "model_bn.add(Flatten())\n",
        "model_bn.add(Dense(512, use_bias=False))\n",
        "model_bn.add(BatchNormalization())\n",
        "model_bn.add(Activation('relu'))\n",
        "#model.add(Dropout(0.5))\n",
        "model_bn.add(Dense(num_classes, use_bias=False))\n",
        "model_bn.add(BatchNormalization())\n",
        "model_bn.add(Activation('softmax'))\n",
        "\n",
        "# initiate RMSprop optimizer\n",
        "opt = keras.optimizers.rmsprop(lr=0.001, decay=1e-6)\n",
        "\n",
        "model_bn.compile(loss='categorical_crossentropy',\n",
        "              optimizer=opt,\n",
        "              metrics=['accuracy'])\n",
        "\n",
        "model_bn.summary()"
      ],
      "execution_count": 0,
      "outputs": [
        {
          "output_type": "stream",
          "text": [
            "Model: \"sequential_6\"\n",
            "_________________________________________________________________\n",
            "Layer (type)                 Output Shape              Param #   \n",
            "=================================================================\n",
            "conv2d_16 (Conv2D)           (None, 32, 32, 32)        864       \n",
            "_________________________________________________________________\n",
            "batch_normalization_14 (Batc (None, 32, 32, 32)        128       \n",
            "_________________________________________________________________\n",
            "activation_20 (Activation)   (None, 32, 32, 32)        0         \n",
            "_________________________________________________________________\n",
            "conv2d_17 (Conv2D)           (None, 30, 30, 32)        9216      \n",
            "_________________________________________________________________\n",
            "batch_normalization_15 (Batc (None, 30, 30, 32)        128       \n",
            "_________________________________________________________________\n",
            "activation_21 (Activation)   (None, 30, 30, 32)        0         \n",
            "_________________________________________________________________\n",
            "max_pooling2d_7 (MaxPooling2 (None, 15, 15, 32)        0         \n",
            "_________________________________________________________________\n",
            "conv2d_18 (Conv2D)           (None, 15, 15, 64)        18432     \n",
            "_________________________________________________________________\n",
            "batch_normalization_16 (Batc (None, 15, 15, 64)        256       \n",
            "_________________________________________________________________\n",
            "activation_22 (Activation)   (None, 15, 15, 64)        0         \n",
            "_________________________________________________________________\n",
            "conv2d_19 (Conv2D)           (None, 13, 13, 64)        36864     \n",
            "_________________________________________________________________\n",
            "batch_normalization_17 (Batc (None, 13, 13, 64)        256       \n",
            "_________________________________________________________________\n",
            "activation_23 (Activation)   (None, 13, 13, 64)        0         \n",
            "_________________________________________________________________\n",
            "max_pooling2d_8 (MaxPooling2 (None, 6, 6, 64)          0         \n",
            "_________________________________________________________________\n",
            "flatten_4 (Flatten)          (None, 2304)              0         \n",
            "_________________________________________________________________\n",
            "dense_7 (Dense)              (None, 512)               1179648   \n",
            "_________________________________________________________________\n",
            "batch_normalization_18 (Batc (None, 512)               2048      \n",
            "_________________________________________________________________\n",
            "activation_24 (Activation)   (None, 512)               0         \n",
            "_________________________________________________________________\n",
            "dense_8 (Dense)              (None, 10)                5120      \n",
            "_________________________________________________________________\n",
            "batch_normalization_19 (Batc (None, 10)                40        \n",
            "_________________________________________________________________\n",
            "activation_25 (Activation)   (None, 10)                0         \n",
            "=================================================================\n",
            "Total params: 1,253,000\n",
            "Trainable params: 1,251,572\n",
            "Non-trainable params: 1,428\n",
            "_________________________________________________________________\n"
          ],
          "name": "stdout"
        }
      ]
    },
    {
      "cell_type": "code",
      "metadata": {
        "id": "g-KiTtlE7Lro",
        "colab_type": "code",
        "outputId": "462ac363-de50-44c7-e213-7129b9e83ccc",
        "colab": {
          "base_uri": "https://localhost:8080/",
          "height": 714
        }
      },
      "source": [
        "# Train\n",
        "history2 = model_bn.fit(x_train, y_train,\n",
        "          batch_size=batch_size,\n",
        "          epochs=epochs,\n",
        "          validation_data=(x_test, y_test),\n",
        "          shuffle=True)"
      ],
      "execution_count": 0,
      "outputs": [
        {
          "output_type": "stream",
          "text": [
            "Train on 50000 samples, validate on 10000 samples\n",
            "Epoch 1/20\n",
            "50000/50000 [==============================] - 16s 329us/step - loss: 1.1857 - acc: 0.6027 - val_loss: 1.1213 - val_acc: 0.6182\n",
            "Epoch 2/20\n",
            "50000/50000 [==============================] - 15s 308us/step - loss: 0.8198 - acc: 0.7284 - val_loss: 0.9249 - val_acc: 0.6769\n",
            "Epoch 3/20\n",
            "50000/50000 [==============================] - 15s 307us/step - loss: 0.6595 - acc: 0.7815 - val_loss: 0.8612 - val_acc: 0.7097\n",
            "Epoch 4/20\n",
            "50000/50000 [==============================] - 15s 303us/step - loss: 0.5469 - acc: 0.8193 - val_loss: 0.7630 - val_acc: 0.7477\n",
            "Epoch 5/20\n",
            "50000/50000 [==============================] - 15s 303us/step - loss: 0.4505 - acc: 0.8508 - val_loss: 0.7530 - val_acc: 0.7418\n",
            "Epoch 6/20\n",
            "50000/50000 [==============================] - 15s 304us/step - loss: 0.3608 - acc: 0.8835 - val_loss: 0.6652 - val_acc: 0.7835\n",
            "Epoch 7/20\n",
            "50000/50000 [==============================] - 15s 304us/step - loss: 0.2972 - acc: 0.9059 - val_loss: 0.7531 - val_acc: 0.7697\n",
            "Epoch 8/20\n",
            "50000/50000 [==============================] - 16s 319us/step - loss: 0.2416 - acc: 0.9249 - val_loss: 0.7081 - val_acc: 0.7830\n",
            "Epoch 9/20\n",
            "50000/50000 [==============================] - 15s 303us/step - loss: 0.1979 - acc: 0.9393 - val_loss: 0.8003 - val_acc: 0.7560\n",
            "Epoch 10/20\n",
            "50000/50000 [==============================] - 15s 308us/step - loss: 0.1702 - acc: 0.9478 - val_loss: 0.7064 - val_acc: 0.7854\n",
            "Epoch 11/20\n",
            "50000/50000 [==============================] - 15s 304us/step - loss: 0.1453 - acc: 0.9578 - val_loss: 0.7650 - val_acc: 0.7744\n",
            "Epoch 12/20\n",
            "50000/50000 [==============================] - 15s 305us/step - loss: 0.1257 - acc: 0.9632 - val_loss: 0.7473 - val_acc: 0.7820\n",
            "Epoch 13/20\n",
            "50000/50000 [==============================] - 15s 307us/step - loss: 0.1154 - acc: 0.9661 - val_loss: 0.7517 - val_acc: 0.7819\n",
            "Epoch 14/20\n",
            "50000/50000 [==============================] - 15s 306us/step - loss: 0.1014 - acc: 0.9705 - val_loss: 0.8437 - val_acc: 0.7682\n",
            "Epoch 15/20\n",
            "50000/50000 [==============================] - 15s 304us/step - loss: 0.0944 - acc: 0.9722 - val_loss: 0.7797 - val_acc: 0.7843\n",
            "Epoch 16/20\n",
            "50000/50000 [==============================] - 15s 307us/step - loss: 0.0856 - acc: 0.9750 - val_loss: 0.8219 - val_acc: 0.7839\n",
            "Epoch 17/20\n",
            "50000/50000 [==============================] - 15s 306us/step - loss: 0.0789 - acc: 0.9761 - val_loss: 0.8143 - val_acc: 0.7849\n",
            "Epoch 18/20\n",
            "50000/50000 [==============================] - 15s 307us/step - loss: 0.0718 - acc: 0.9789 - val_loss: 0.8768 - val_acc: 0.7694\n",
            "Epoch 19/20\n",
            "50000/50000 [==============================] - 15s 305us/step - loss: 0.0662 - acc: 0.9806 - val_loss: 0.8744 - val_acc: 0.7764\n",
            "Epoch 20/20\n",
            "50000/50000 [==============================] - 15s 306us/step - loss: 0.0639 - acc: 0.9813 - val_loss: 0.8711 - val_acc: 0.7809\n"
          ],
          "name": "stdout"
        }
      ]
    },
    {
      "cell_type": "markdown",
      "metadata": {
        "id": "ZEnoUn4R7WEH",
        "colab_type": "text"
      },
      "source": [
        "## Compare"
      ]
    },
    {
      "cell_type": "code",
      "metadata": {
        "id": "v4ksMyY37YGo",
        "colab_type": "code",
        "outputId": "d657350d-521c-4ff1-be36-2838f26bfa25",
        "colab": {
          "base_uri": "https://localhost:8080/",
          "height": 312
        }
      },
      "source": [
        "plt.plot(history1.history['val_acc'])\n",
        "plt.plot(history2.history['val_acc'])\n",
        "plt.title('model Accuracy')\n",
        "plt.ylabel('Accuracy')\n",
        "plt.xlabel('epoch')\n",
        "plt.legend(['without BN', 'with BN'], loc='lower right')"
      ],
      "execution_count": 0,
      "outputs": [
        {
          "output_type": "execute_result",
          "data": {
            "text/plain": [
              "<matplotlib.legend.Legend at 0x7fd2cb5e0240>"
            ]
          },
          "metadata": {
            "tags": []
          },
          "execution_count": 22
        },
        {
          "output_type": "display_data",
          "data": {
            "image/png": "[encoded data removed]",
            "text/plain": [
              "<Figure size 432x288 with 1 Axes>"
            ]
          },
          "metadata": {
            "tags": []
          }
        }
      ]
    }
  ]
}